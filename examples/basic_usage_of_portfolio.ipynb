{
 "cells": [
  {
   "cell_type": "code",
   "execution_count": 1,
   "metadata": {},
   "outputs": [],
   "source": [
    "import yapo as y\n",
    "import pandas as pd\n",
    "import numpy as np"
   ]
  },
  {
   "cell_type": "markdown",
   "metadata": {},
   "source": [
    "## Portfolio Manipulations\n",
    "\n",
    "The library can create a `portfolio` in several ways with the `portfolio` method. The method `portfolio` accepts parameters:\n",
    "\n",
    "- the `assets` dictionary of `name-weight` pairs \n",
    "- optional `start_period` and `end_period` to define date range. If nothing is provided then the library takes maximum possible range \n",
    "- `currency` to compute further activities. The `currency` is required (unlike it is for the an asset creation) since each asset in the portfolio might have different currency that can't be deduced automatically"
   ]
  },
  {
   "cell_type": "code",
   "execution_count": 2,
   "metadata": {},
   "outputs": [],
   "source": [
    "assets = {\n",
    "    'us/SPY': 1.,\n",
    "    'us/MSFT': 2.,\n",
    "    'us/AAPL': 3.,\n",
    "    'non/existing': 4.,\n",
    "}"
   ]
  },
  {
   "cell_type": "code",
   "execution_count": 3,
   "metadata": {},
   "outputs": [
    {
     "data": {
      "text/plain": [
       "Portfolio(\n",
       "     assets: us/SPY, us/MSFT, us/AAPL,\n",
       "     currency: Currency(USD),\n",
       ")"
      ]
     },
     "execution_count": 3,
     "metadata": {},
     "output_type": "execute_result"
    }
   ],
   "source": [
    "p = y.portfolio(assets=assets, currency='usd', start_period='2017-1', end_period='2019-4')\n",
    "p"
   ]
  },
  {
   "cell_type": "markdown",
   "metadata": {},
   "source": [
    "Note how the library created the portfolio only for existing ticker names.\n",
    "\n",
    "The library also normalizes the weights to keep its sum as much close to 1.0 as possible in computer's floating numbers:"
   ]
  },
  {
   "cell_type": "code",
   "execution_count": 4,
   "metadata": {},
   "outputs": [
    {
     "data": {
      "text/plain": [
       "array([0.1667, 0.3333, 0.5   ])"
      ]
     },
     "execution_count": 4,
     "metadata": {},
     "output_type": "execute_result"
    }
   ],
   "source": [
    "assert sum(a.weight for (_, a) in p.assets.items()) == 1.0\n",
    "\n",
    "np.round([a.weight for (_, a) in p.assets.items()], 4)"
   ]
  },
  {
   "cell_type": "markdown",
   "metadata": {},
   "source": [
    "## Basic Activities"
   ]
  },
  {
   "cell_type": "markdown",
   "metadata": {},
   "source": [
    "The portfolio doesn't have the `close` method since we can't put one-to-one weighted close values of assets of different kinds which are indices, mutual funds, currencies. The very first portfolio basic activity is [the Return](https://okama.io/#/glossary?page=cumulative-return):"
   ]
  },
  {
   "cell_type": "code",
   "execution_count": 5,
   "metadata": {},
   "outputs": [
    {
     "data": {
      "text/plain": [
       "TimeSeries(start_period=2017-02, end_period=2019-04, kind=TimeSeriesKind.DIFF, values=[ 0.07198208  0.03434907  0.01477775  0.04492583 -0.03188868  0.03800819\n",
       "  0.06530379 -0.02801193  0.09121692  0.02089593 -0.00017678  0.04097785\n",
       "  0.02522722 -0.04248066  0.00156871  0.09210298 -0.00452622  0.0454167\n",
       "  0.12652848  0.00289274 -0.0487894  -0.07327928 -0.10103939  0.05030662\n",
       "  0.05357695  0.06911396  0.07080785]"
      ]
     },
     "execution_count": 5,
     "metadata": {},
     "output_type": "execute_result"
    }
   ],
   "source": [
    "p.get_return()"
   ]
  },
  {
   "cell_type": "code",
   "execution_count": 6,
   "metadata": {},
   "outputs": [
    {
     "data": {
      "text/plain": [
       "TimeSeries(start_period=2017-02, end_period=2019-04, kind=TimeSeriesKind.CUMULATIVE, values=[0.0686202  0.10442841 0.11743506 0.16663929 0.12841323 0.17211093\n",
       " 0.24492691 0.20368061 0.31430729 0.34173876 0.34229083 0.38972381\n",
       " 0.41835046 0.35503427 0.35178658 0.47017569 0.46119221 0.52745239\n",
       " 0.71976243 0.72273543 0.63579376 0.52101786 0.37171641 0.4379806\n",
       " 0.50864617 0.60386726 0.70838774]"
      ]
     },
     "execution_count": 6,
     "metadata": {},
     "output_type": "execute_result"
    }
   ],
   "source": [
    "p.get_return(kind='cumulative', real=True)"
   ]
  },
  {
   "cell_type": "markdown",
   "metadata": {},
   "source": [
    "The rest of basic activities are exactly the same as for the individual asset:"
   ]
  },
  {
   "cell_type": "code",
   "execution_count": 7,
   "metadata": {},
   "outputs": [
    {
     "data": {
      "text/plain": [
       "TimeSeries(start_period=2017-02, end_period=2019-04, kind=TimeSeriesKind.REDUCED_VALUE, values=[0.29783108]"
      ]
     },
     "execution_count": 7,
     "metadata": {},
     "output_type": "execute_result"
    }
   ],
   "source": [
    "p.cagr()"
   ]
  },
  {
   "cell_type": "code",
   "execution_count": 8,
   "metadata": {},
   "outputs": [
    {
     "data": {
      "text/plain": [
       "TimeSeries(start_period=2017-02, end_period=2019-04, kind=TimeSeriesKind.REDUCED_VALUE, values=[0.26873743]"
      ]
     },
     "execution_count": 8,
     "metadata": {},
     "output_type": "execute_result"
    }
   ],
   "source": [
    "p.cagr(real=True)"
   ]
  },
  {
   "cell_type": "code",
   "execution_count": 9,
   "metadata": {},
   "outputs": [
    {
     "data": {
      "text/plain": [
       "TimeSeries(start_period=2017-02, end_period=2019-04, kind=TimeSeriesKind.REDUCED_VALUE, values=[0.23545407]"
      ]
     },
     "execution_count": 9,
     "metadata": {},
     "output_type": "execute_result"
    }
   ],
   "source": [
    "p.risk()"
   ]
  },
  {
   "cell_type": "code",
   "execution_count": 10,
   "metadata": {},
   "outputs": [
    {
     "data": {
      "text/plain": [
       "TimeSeries(start_period=2017-02, end_period=2019-04, kind=TimeSeriesKind.REDUCED_VALUE, values=[0.23545407]"
      ]
     },
     "execution_count": 10,
     "metadata": {},
     "output_type": "execute_result"
    }
   ],
   "source": [
    "p.risk(period='year')"
   ]
  },
  {
   "cell_type": "code",
   "execution_count": 11,
   "metadata": {},
   "outputs": [
    {
     "data": {
      "text/plain": [
       "TimeSeries(start_period=2017-02, end_period=2019-04, kind=TimeSeriesKind.REDUCED_VALUE, values=[0.05236391]"
      ]
     },
     "execution_count": 11,
     "metadata": {},
     "output_type": "execute_result"
    }
   ],
   "source": [
    "p.risk(period='month')"
   ]
  },
  {
   "cell_type": "code",
   "execution_count": null,
   "metadata": {},
   "outputs": [],
   "source": []
  }
 ],
 "metadata": {
  "kernelspec": {
   "display_name": "Python 3",
   "language": "python",
   "name": "python3"
  },
  "language_info": {
   "codemirror_mode": {
    "name": "ipython",
    "version": 3
   },
   "file_extension": ".py",
   "mimetype": "text/x-python",
   "name": "python",
   "nbconvert_exporter": "python",
   "pygments_lexer": "ipython3",
   "version": "3.7.3"
  }
 },
 "nbformat": 4,
 "nbformat_minor": 2
}
